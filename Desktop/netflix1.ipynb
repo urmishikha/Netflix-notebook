{
 "cells": [
  {
   "cell_type": "code",
   "execution_count": 46,
   "metadata": {},
   "outputs": [],
   "source": [
    "import numpy as np\n",
    "import matplotlib.pyplot as plt\n",
    "import pandas as pd"
   ]
  },
  {
   "cell_type": "code",
   "execution_count": 47,
   "metadata": {},
   "outputs": [
    {
     "name": "stdout",
     "output_type": "stream",
     "text": [
      "[['The Lord of the rings', 'Cinema Paradiso', 'Se7en', 'Avengers: Infinity War', 'The Shining', 'High and Low ', 'Terminator 2: Judgment Day', 'Toy Story', 'City of God', 'Witness for the Prosecution', '12 Angry Men', 'Whiplash', 'Black Panther', 'Hamilton', 'The Dark Knight', 'Once Upon a Time in the West', 'The Great Dictator', 'Back to the Future', 'Aliens', 'Comedy nights with Kapil'], ['The Shawshank Redemption', 'Fight Club', 'Pulp Fiction', 'nan', 'nan', 'nan', 'nan', 'nan', 'nan', 'nan', 'nan', 'nan', 'nan', 'nan', 'nan', 'nan', 'nan', 'nan', 'nan', 'nan'], ['The Godfather', 'nan', 'nan', 'nan', 'nan', 'nan', 'nan', 'nan', 'nan', 'nan', 'nan', 'nan', 'nan', 'nan', 'nan', 'nan', 'nan', 'nan', 'nan', 'nan'], ['The Godfather: Part II', 'Se7en', 'nan', 'nan', 'nan', 'nan', 'nan', 'nan', 'nan', 'nan', 'nan', 'nan', 'nan', 'nan', 'nan', 'nan', 'nan', 'nan', 'nan', 'nan'], ['The Dark Knight', 'The Intouchables', \"One Flew Over the Cuckoo's Nest\", 'whole wheat Star Wars: Episode V - The Empire Strikes Back', 'Whiplash', 'nan', 'nan', 'nan', 'nan', 'nan', 'nan', 'nan', 'nan', 'nan', 'nan', 'nan', 'nan', 'nan', 'nan', 'nan']]\n"
     ]
    }
   ],
   "source": [
    "df=pd.read_csv(\"/Users/urmisikhadash/Desktop/netflixfile.csv\",header=None)\n",
    "t=[]\n",
    "for i in range(0,7466):\n",
    "    t.append([str(df.values[i,j]) for j in range(0,20)])\n",
    "print(t[:5])  # Display the first 5 transactions\n",
    "\n",
    "\n"
   ]
  },
  {
   "cell_type": "code",
   "execution_count": 48,
   "metadata": {},
   "outputs": [
    {
     "name": "stderr",
     "output_type": "stream",
     "text": [
      "/Library/Frameworks/Python.framework/Versions/3.12/lib/python3.12/pty.py:95: DeprecationWarning: This process (pid=88620) is multi-threaded, use of forkpty() may lead to deadlocks in the child.\n",
      "  pid, fd = os.forkpty()\n"
     ]
    },
    {
     "name": "stdout",
     "output_type": "stream",
     "text": [
      "Requirement already satisfied: apyori in /Library/Frameworks/Python.framework/Versions/3.12/lib/python3.12/site-packages (1.1.2)\n",
      "Note: you may need to restart the kernel to use updated packages.\n"
     ]
    }
   ],
   "source": [
    "%pip install apyori"
   ]
  },
  {
   "cell_type": "code",
   "execution_count": 49,
   "metadata": {},
   "outputs": [],
   "source": [
    "from apyori import apriori\n",
    "rules=apriori(transactions=t,min_support=0.01,min_confidence=0.2,min_lift=3)"
   ]
  },
  {
   "cell_type": "code",
   "execution_count": 50,
   "metadata": {},
   "outputs": [
    {
     "data": {
      "text/plain": [
       "[RelationRecord(items=frozenset({'inception', 'Interstellar'}), support=0.015938923118135547, ordered_statistics=[OrderedStatistic(items_base=frozenset({'Interstellar'}), items_add=frozenset({'inception'}), confidence=0.3216216216216216, lift=3.262536721504113)]),\n",
       " RelationRecord(items=frozenset({'inception', 'Interstellar', 'nan'}), support=0.015938923118135547, ordered_statistics=[OrderedStatistic(items_base=frozenset({'Interstellar'}), items_add=frozenset({'inception', 'nan'}), confidence=0.3216216216216216, lift=3.262536721504113), OrderedStatistic(items_base=frozenset({'Interstellar', 'nan'}), items_add=frozenset({'inception'}), confidence=0.3216216216216216, lift=3.262536721504113)])]"
      ]
     },
     "execution_count": 50,
     "metadata": {},
     "output_type": "execute_result"
    }
   ],
   "source": [
    "res=list(rules)\n",
    "res"
   ]
  },
  {
   "cell_type": "code",
   "execution_count": 51,
   "metadata": {},
   "outputs": [
    {
     "name": "stdout",
     "output_type": "stream",
     "text": [
      "Frequent Itemsets:\n",
      "    support itemsets\n",
      "0  0.999866    (nan)\n"
     ]
    }
   ],
   "source": [
    "from mlxtend.preprocessing import TransactionEncoder\n",
    "import pandas as pd\n",
    "from mlxtend.frequent_patterns import apriori, association_rules\n",
    "\n",
    "te = TransactionEncoder()\n",
    "te_ary = te.fit(t).transform(t)\n",
    "df = pd.DataFrame(te_ary, columns=te.columns_)\n",
    "\n",
    "# Apply apriori algorithm to find frequent itemsets with a minimum support\n",
    "frequent_itemsets = apriori(df, min_support=0.3, use_colnames=True)\n",
    "\n",
    "# Print the frequent itemsets\n",
    "print(\"Frequent Itemsets:\")\n",
    "print(frequent_itemsets)\n",
    "\n"
   ]
  },
  {
   "cell_type": "code",
   "execution_count": 52,
   "metadata": {},
   "outputs": [
    {
     "data": {
      "text/html": [
       "<div>\n",
       "<style scoped>\n",
       "    .dataframe tbody tr th:only-of-type {\n",
       "        vertical-align: middle;\n",
       "    }\n",
       "\n",
       "    .dataframe tbody tr th {\n",
       "        vertical-align: top;\n",
       "    }\n",
       "\n",
       "    .dataframe thead th {\n",
       "        text-align: right;\n",
       "    }\n",
       "</style>\n",
       "<table border=\"1\" class=\"dataframe\">\n",
       "  <thead>\n",
       "    <tr style=\"text-align: right;\">\n",
       "      <th></th>\n",
       "      <th>Movie1</th>\n",
       "      <th>movie2</th>\n",
       "      <th>support</th>\n",
       "      <th>confidence</th>\n",
       "      <th>lift</th>\n",
       "    </tr>\n",
       "  </thead>\n",
       "  <tbody>\n",
       "    <tr>\n",
       "      <th>0</th>\n",
       "      <td>Interstellar</td>\n",
       "      <td>inception</td>\n",
       "      <td>0.015939</td>\n",
       "      <td>0.321622</td>\n",
       "      <td>3.262537</td>\n",
       "    </tr>\n",
       "    <tr>\n",
       "      <th>1</th>\n",
       "      <td>Interstellar</td>\n",
       "      <td>inception, nan</td>\n",
       "      <td>0.015939</td>\n",
       "      <td>0.321622</td>\n",
       "      <td>3.262537</td>\n",
       "    </tr>\n",
       "    <tr>\n",
       "      <th>2</th>\n",
       "      <td>Interstellar, nan</td>\n",
       "      <td>inception</td>\n",
       "      <td>0.015939</td>\n",
       "      <td>0.321622</td>\n",
       "      <td>3.262537</td>\n",
       "    </tr>\n",
       "  </tbody>\n",
       "</table>\n",
       "</div>"
      ],
      "text/plain": [
       "              Movie1          movie2   support  confidence      lift\n",
       "0       Interstellar       inception  0.015939    0.321622  3.262537\n",
       "1       Interstellar  inception, nan  0.015939    0.321622  3.262537\n",
       "2  Interstellar, nan       inception  0.015939    0.321622  3.262537"
      ]
     },
     "execution_count": 52,
     "metadata": {},
     "output_type": "execute_result"
    }
   ],
   "source": [
    "def inspect(results):\n",
    "    p1 = []\n",
    "    p2 = []\n",
    "    supports = []\n",
    "    confidences = []\n",
    "    lifts = []\n",
    "\n",
    "    for result in results:\n",
    "        for stat in result.ordered_statistics:\n",
    "            p1.append(\", \".join(stat.items_base))\n",
    "            p2.append(\", \".join(stat.items_add))\n",
    "            supports.append(result.support)\n",
    "            confidences.append(stat.confidence)\n",
    "            lifts.append(stat.lift)\n",
    "\n",
    "    return list(zip(p1, p2, supports, confidences, lifts))\n",
    "\n",
    "# Convert to DataFrame\n",
    "dfint = pd.DataFrame(inspect(res), columns=['Movie1', 'movie2', 'support', 'confidence', 'lift'])\n",
    "dfint"
   ]
  },
  {
   "cell_type": "code",
   "execution_count": 53,
   "metadata": {},
   "outputs": [
    {
     "name": "stdout",
     "output_type": "stream",
     "text": [
      "             Movie 1         Movie 2   Support\n",
      "0       Interstellar       inception  0.015939\n",
      "1       Interstellar  inception, nan  0.015939\n",
      "2  Interstellar, nan       inception  0.015939\n"
     ]
    }
   ],
   "source": [
    "import pandas as pd\n",
    "\n",
    "# Refined inspect function\n",
    "def inspect(res):\n",
    "    lhs = []\n",
    "    rhs = []\n",
    "    supports = []\n",
    "\n",
    "    for result in res:\n",
    "        for ordered_stat in result.ordered_statistics:\n",
    "            lhs.append(\", \".join(ordered_stat.items_base))\n",
    "            rhs.append(\", \".join(ordered_stat.items_add))\n",
    "            supports.append(result.support)\n",
    "\n",
    "    return list(zip(lhs, rhs, supports))\n",
    "\n",
    "# Convert results into DataFrame\n",
    "results_in_dataframe = pd.DataFrame(inspect(res), columns=['Movie 1', 'Movie 2', 'Support'])\n",
    "\n",
    "\n",
    "# Drop duplicate rows\n",
    "results_in_dataframe = results_in_dataframe.drop_duplicates()\n",
    "\n",
    "# Reset index for better readability\n",
    "results_in_dataframe = results_in_dataframe.reset_index(drop=True)\n",
    "\n",
    "# Display cleaned DataFrame\n",
    "print(results_in_dataframe)\n",
    "\n"
   ]
  },
  {
   "cell_type": "code",
   "execution_count": 54,
   "metadata": {},
   "outputs": [
    {
     "data": {
      "text/html": [
       "<div>\n",
       "<style scoped>\n",
       "    .dataframe tbody tr th:only-of-type {\n",
       "        vertical-align: middle;\n",
       "    }\n",
       "\n",
       "    .dataframe tbody tr th {\n",
       "        vertical-align: top;\n",
       "    }\n",
       "\n",
       "    .dataframe thead th {\n",
       "        text-align: right;\n",
       "    }\n",
       "</style>\n",
       "<table border=\"1\" class=\"dataframe\">\n",
       "  <thead>\n",
       "    <tr style=\"text-align: right;\">\n",
       "      <th></th>\n",
       "      <th>Movie 1</th>\n",
       "      <th>Movie 2</th>\n",
       "      <th>Support</th>\n",
       "    </tr>\n",
       "  </thead>\n",
       "  <tbody>\n",
       "    <tr>\n",
       "      <th>0</th>\n",
       "      <td>Interstellar</td>\n",
       "      <td>inception</td>\n",
       "      <td>0.015939</td>\n",
       "    </tr>\n",
       "    <tr>\n",
       "      <th>1</th>\n",
       "      <td>Interstellar</td>\n",
       "      <td>inception, nan</td>\n",
       "      <td>0.015939</td>\n",
       "    </tr>\n",
       "    <tr>\n",
       "      <th>2</th>\n",
       "      <td>Interstellar, nan</td>\n",
       "      <td>inception</td>\n",
       "      <td>0.015939</td>\n",
       "    </tr>\n",
       "  </tbody>\n",
       "</table>\n",
       "</div>"
      ],
      "text/plain": [
       "             Movie 1         Movie 2   Support\n",
       "0       Interstellar       inception  0.015939\n",
       "1       Interstellar  inception, nan  0.015939\n",
       "2  Interstellar, nan       inception  0.015939"
      ]
     },
     "execution_count": 54,
     "metadata": {},
     "output_type": "execute_result"
    }
   ],
   "source": [
    "results_in_dataframe.nlargest(n=10,columns='Support')"
   ]
  }
 ],
 "metadata": {
  "kernelspec": {
   "display_name": "Python 3",
   "language": "python",
   "name": "python3"
  },
  "language_info": {
   "codemirror_mode": {
    "name": "ipython",
    "version": 3
   },
   "file_extension": ".py",
   "mimetype": "text/x-python",
   "name": "python",
   "nbconvert_exporter": "python",
   "pygments_lexer": "ipython3",
   "version": "3.12.1"
  },
  "orig_nbformat": 4,
  "vscode": {
   "interpreter": {
    "hash": "aee8b7b246df8f9039afb4144a1f6fd8d2ca17a180786b69acc140d282b71a49"
   }
  }
 },
 "nbformat": 4,
 "nbformat_minor": 2
}
